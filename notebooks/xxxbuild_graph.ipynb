{
 "cells": [
  {
   "cell_type": "code",
   "execution_count": 8,
   "id": "51d145aa-9671-48a3-9546-577bbd767c28",
   "metadata": {},
   "outputs": [],
   "source": [
    "import sys\n",
    "sys.path.append(os.path.abspath(\"..\"))\n",
    "\n",
    "\n",
    "import json\n",
    "import logging\n",
    "import os\n",
    "from typing import Annotated, Literal\n",
    "\n",
    "from langchain_core.messages import AIMessage, HumanMessage\n",
    "from langchain_core.runnables import RunnableConfig\n",
    "from langchain_core.tools import tool\n",
    "from langgraph.types import Command, interrupt\n",
    "from langchain_mcp_adapters.client import MultiServerMCPClient\n",
    "\n",
    "from src.agents import create_agent\n",
    "from src.tools.search import LoggedTavilySearch\n",
    "from src.tools import (\n",
    "    crawl_tool,\n",
    "    get_web_search_tool,\n",
    "    get_retriever_tool,\n",
    "    python_repl_tool,\n",
    ")\n",
    "\n",
    "from src.config.agents import AGENT_LLM_MAP\n",
    "from src.config.configuration import Configuration\n",
    "from src.llms.llm import get_llm_by_type\n",
    "from src.prompts.planner_model import Plan\n",
    "from src.prompts.template import apply_prompt_template\n",
    "from src.utils.json_utils import repair_json_output\n",
    "\n",
    "from src.graph.types import State\n",
    "from src.config import SELECTED_SEARCH_ENGINE, SearchEngine\n",
    "\n",
    "logger = logging.getLogger(__name__)"
   ]
  },
  {
   "cell_type": "code",
   "execution_count": null,
   "id": "3bf06650-8f68-46e7-aa23-1d7c535a19dd",
   "metadata": {},
   "outputs": [],
   "source": [
    "await(\n",
    "    run_agent_workflow_async(\n",
    "        user_input=question,\n",
    "        debug=False,\n",
    "        max_plan_iterations=1,\n",
    "        max_step_num=3,\n",
    "        enable_background_investigation=True,\n",
    "    ))"
   ]
  }
 ],
 "metadata": {
  "kernelspec": {
   "display_name": "Python 3 (ipykernel)",
   "language": "python",
   "name": "python3"
  },
  "language_info": {
   "codemirror_mode": {
    "name": "ipython",
    "version": 3
   },
   "file_extension": ".py",
   "mimetype": "text/x-python",
   "name": "python",
   "nbconvert_exporter": "python",
   "pygments_lexer": "ipython3",
   "version": "3.12.11"
  }
 },
 "nbformat": 4,
 "nbformat_minor": 5
}
